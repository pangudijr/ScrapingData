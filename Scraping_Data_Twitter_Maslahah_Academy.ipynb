{
  "nbformat": 4,
  "nbformat_minor": 0,
  "metadata": {
    "colab": {
      "name": "Scraping Data Twitter - Maslahah Academy.ipynb",
      "provenance": [],
      "collapsed_sections": [],
      "toc_visible": true,
      "mount_file_id": "10zeHOxlyQrqZV-n5VrOPk1HGuGS2vh7j",
      "authorship_tag": "ABX9TyO3shGKgvNzPsiKBqg1TlWo",
      "include_colab_link": true
    },
    "kernelspec": {
      "name": "python3",
      "display_name": "Python 3"
    }
  },
  "cells": [
    {
      "cell_type": "markdown",
      "metadata": {
        "id": "view-in-github",
        "colab_type": "text"
      },
      "source": [
        "<a href=\"https://colab.research.google.com/github/pangudijr/ScrapingData/blob/master/Scraping_Data_Twitter_Maslahah_Academy.ipynb\" target=\"_parent\"><img src=\"https://colab.research.google.com/assets/colab-badge.svg\" alt=\"Open In Colab\"/></a>"
      ]
    },
    {
      "cell_type": "markdown",
      "metadata": {
        "id": "gjxEXqZMOSCZ",
        "colab_type": "text"
      },
      "source": [
        "# Pengaturan Direktori Penyimpanan File"
      ]
    },
    {
      "cell_type": "code",
      "metadata": {
        "id": "nkTXsz4TOZiH",
        "colab_type": "code",
        "outputId": "ea25dd5e-7215-4eca-abba-84e716c5c4e6",
        "colab": {
          "base_uri": "https://localhost:8080/",
          "height": 35
        }
      },
      "source": [
        "%cd /content/drive/My Drive/TRAINING BIG DATA - DONASI COVID19/CRAWLING DAN SCRAPING TWITTER"
      ],
      "execution_count": 1,
      "outputs": [
        {
          "output_type": "stream",
          "text": [
            "/content/drive/My Drive/TRAINING BIG DATA - DONASI COVID19/CRAWLING DAN SCRAPING TWITTER\n"
          ],
          "name": "stdout"
        }
      ]
    },
    {
      "cell_type": "markdown",
      "metadata": {
        "id": "pJecU0qtihfT",
        "colab_type": "text"
      },
      "source": [
        "# Masukkan semua library yang dibutuhkan"
      ]
    },
    {
      "cell_type": "code",
      "metadata": {
        "id": "mqHBzYyJks70",
        "colab_type": "code",
        "outputId": "896ec900-a997-4fc8-de05-ccec3d0aa8c6",
        "colab": {
          "base_uri": "https://localhost:8080/",
          "height": 197
        }
      },
      "source": [
        "pip install GetOldTweets3"
      ],
      "execution_count": 2,
      "outputs": [
        {
          "output_type": "stream",
          "text": [
            "Collecting GetOldTweets3\n",
            "  Downloading https://files.pythonhosted.org/packages/ed/f4/a00c2a7c90801abc875325bb5416ce9090ac86d06a00cc887131bd73ba45/GetOldTweets3-0.0.11-py3-none-any.whl\n",
            "Requirement already satisfied: lxml>=3.5.0 in /usr/local/lib/python3.6/dist-packages (from GetOldTweets3) (4.2.6)\n",
            "Collecting pyquery>=1.2.10\n",
            "  Downloading https://files.pythonhosted.org/packages/78/43/95d42e386c61cb639d1a0b94f0c0b9f0b7d6b981ad3c043a836c8b5bc68b/pyquery-1.4.1-py2.py3-none-any.whl\n",
            "Collecting cssselect>0.7.9\n",
            "  Downloading https://files.pythonhosted.org/packages/3b/d4/3b5c17f00cce85b9a1e6f91096e1cc8e8ede2e1be8e96b87ce1ed09e92c5/cssselect-1.1.0-py2.py3-none-any.whl\n",
            "Installing collected packages: cssselect, pyquery, GetOldTweets3\n",
            "Successfully installed GetOldTweets3-0.0.11 cssselect-1.1.0 pyquery-1.4.1\n"
          ],
          "name": "stdout"
        }
      ]
    },
    {
      "cell_type": "code",
      "metadata": {
        "id": "uM7I5eOJiw4f",
        "colab_type": "code",
        "colab": {}
      },
      "source": [
        "import os\n",
        "import sys\n",
        "import GetOldTweets3 as got\n",
        "import pandas as pd"
      ],
      "execution_count": 0,
      "outputs": []
    },
    {
      "cell_type": "markdown",
      "metadata": {
        "id": "JDdn73g0r3vw",
        "colab_type": "text"
      },
      "source": [
        "# Pencarian Tweet Berdasarkan Username"
      ]
    },
    {
      "cell_type": "code",
      "metadata": {
        "id": "p132MO5or74k",
        "colab_type": "code",
        "colab": {}
      },
      "source": [
        "username = 'jokowi'\n",
        "max_tweet = 10\n",
        "\n",
        "# Yang Pertama ini adalah codingan untuk pencarian Tweet berdasarkan username\n",
        "# Parameter: (username yg ingin dicari), (maksimal jumlah tweet yang ingin diambil dari username tersebut)\n",
        "\n",
        "# Buat fungsi untuk mempermudah pemanggilan data kedalam CSV\n",
        "def username_tweets_to_csv(username, max_tweet):\n",
        "    # Buat variabel yang berisi objek pemanggilan (query)\n",
        "    tweetCriteria = got.manager.TweetCriteria().setUsername(username)\\\n",
        "                                            .setMaxTweets(max_tweet)\n",
        "    # Buat variabel yang berisi dari list semua tweet\n",
        "    tweets = got.manager.TweetManager.getTweets(tweetCriteria)\n",
        "\n",
        "    # Buat variabel yang berisi list dari data twitter yang ingin ditampilkan\n",
        "    user_tweets = [[tweet.date, tweet.text] for tweet in tweets]\n",
        "\n",
        "    # Buat variabel berupa dataframe (tabel) dari data yang ingin ditampilkan\n",
        "    tweets_df = pd.DataFrame(user_tweets, columns = ['Tanggal-Waktu', 'Tweets'])\n",
        "    \n",
        "    # Konversi dataframe ke CSV\n",
        "    tweets_df.to_csv('{}-{}k-tweets.csv'.format(username, int(max_tweet/1000)), sep=',')\n",
        "\n",
        "#Pemanggilan fungsi untuk dieksekusi    \n",
        "username_tweets_to_csv(username, max_tweet)"
      ],
      "execution_count": 0,
      "outputs": []
    },
    {
      "cell_type": "markdown",
      "metadata": {
        "id": "najt-Bp21376",
        "colab_type": "text"
      },
      "source": [
        "# Pencarian Top 10 Tweet Berdasarkan Username"
      ]
    },
    {
      "cell_type": "code",
      "metadata": {
        "id": "nj7YOwU619yt",
        "colab_type": "code",
        "colab": {}
      },
      "source": [
        "username = 'FiersaBesari'\n",
        "max_tweet = 10\n",
        "\n",
        "# Yang Kedua ini adalah codingan untuk pencarian Tweet top 10 berdasarkan username\n",
        "# Parameter: (username yg ingin dicari), (maksimal jumlah tweet yang ingin diambil dari username tersebut)\n",
        "def username_tweets_to_csv(username, max_tweet):\n",
        "    # Buat variabel yang berisi objek pemanggilan (query)\n",
        "    tweetCriteria = got.manager.TweetCriteria().setUsername(username)\\\n",
        "                                            .setTopTweets(True)\\\n",
        "                                            .setMaxTweets(max_tweet)\n",
        "    # Buat variabel yang berisi dari list semua tweet\n",
        "    tweets = got.manager.TweetManager.getTweets(tweetCriteria)\n",
        "\n",
        "     # Buat variabel yang berisi list dari data twitter yang ingin ditampilkan\n",
        "    user_tweets = [[tweet.date, tweet.text] for tweet in tweets]\n",
        "\n",
        "     # Buat variabel berupa dataframe (tabel) dari data yang ingin ditampilkan\n",
        "    tweets_df = pd.DataFrame(user_tweets, columns = ['Tanggal-Waktu', 'Tweets'])\n",
        "    \n",
        "    # Konversi dataframe ke CSV\n",
        "    tweets_df.to_csv('{}-{}k-tweets.csv'.format(username, int(max_tweet/1000)), sep=',')\n",
        "\n",
        "#Pemanggilan fungsi untuk dieksekusi      \n",
        "username_tweets_to_csv(username, max_tweet)"
      ],
      "execution_count": 0,
      "outputs": []
    },
    {
      "cell_type": "markdown",
      "metadata": {
        "id": "5bcgcJwcHhEP",
        "colab_type": "text"
      },
      "source": [
        "# Scraping dengan kata kunci"
      ]
    },
    {
      "cell_type": "code",
      "metadata": {
        "id": "S07rHTQjHm-s",
        "colab_type": "code",
        "colab": {}
      },
      "source": [
        "cari_apa = 'thai tea'\n",
        "mulai = \"2020-01-2\"\n",
        "akhir = \"2020-05-2\"\n",
        "lokasi = \"Jakarta\"\n",
        "radius = \"15mi\"\n",
        "max_tweet = 50000\n",
        "\n",
        "\n",
        "# Yang Ketiga ini adalah codingan untuk pencarian Tweet berdasarkan kata kunci\n",
        "# Parameter: (kata kunci yang ingin ditelusuri), (tanggal mulai pencarian), (tanggal akhir pencarian), (jumlah tweet yg ingin diambil)\n",
        "def search_tweets_to_csv(cari_apa, mulai, akhir, max_tweet):\n",
        "    # Buat variabel yang berisi objek pemanggilan (query)\n",
        "    tweetCriteria = got.manager.TweetCriteria().setQuerySearch(cari_apa)\\\n",
        "                                            .setSince(mulai)\\\n",
        "                                            .setUntil(akhir)\\\n",
        "                                            .setNear(lokasi)\\\n",
        "                                            .setWithin(radius)\\\n",
        "                                            .setMaxTweets(max_tweet)\n",
        "    # Buat variabel yang berisi dari list semua tweet\n",
        "    tweets = got.manager.TweetManager.getTweets(tweetCriteria)\n",
        "\n",
        "    # Buat variabel yang berisi list dari data twitter yang ingin ditampilkan\n",
        "    cari_tweets = [[tweet.date, tweet.username, tweet.text, tweet.retweets, tweet.favorites, tweet.hashtags] for tweet in tweets]\n",
        "\n",
        "    # Buat variabel berupa dataframe (tabel) dari data yang ingin ditampilkan\n",
        "    tweets_df = pd.DataFrame(cari_tweets, columns = ['Tanggal-Waktu', 'Username', 'Tweet', 'Retweet', 'Likes', 'Hashtag'])\n",
        "    \n",
        "    # Konversi dataframe ke CSV\n",
        "    tweets_df.to_csv('{}-{}k-hasil pencarian.csv'.format(cari_apa, int(max_tweet/1000)), sep=',')\n",
        "    \n",
        "#Pemanggilan fungsi untuk dieksekusi      \n",
        "search_tweets_to_csv(cari_apa, mulai, akhir, max_tweet)"
      ],
      "execution_count": 0,
      "outputs": []
    }
  ]
}